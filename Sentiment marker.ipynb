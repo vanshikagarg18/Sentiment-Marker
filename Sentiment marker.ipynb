{
 "cells": [
  {
   "cell_type": "markdown",
   "id": "3140a29a-b141-4a23-a81c-0f3bd9aa09ac",
   "metadata": {},
   "source": [
    "#### Python offers multiple options for developing a GUI (Graphical User Interface). Out of all the GUI methods, Tkinter is the most commonly used method. Python with Tkinter outputs the fastest and easiest way to create GUI applications. "
   ]
  },
  {
   "cell_type": "code",
   "execution_count": 1,
   "id": "75eeb208-2b1a-4411-b8ab-e72b0cd6b803",
   "metadata": {},
   "outputs": [
    {
     "name": "stdout",
     "output_type": "stream",
     "text": [
      "Defaulting to user installation because normal site-packages is not writeable\n",
      "Requirement already satisfied: vaderSentiment in c:\\users\\vansh\\appdata\\roaming\\python\\python311\\site-packages (3.3.2)\n",
      "Requirement already satisfied: requests in c:\\users\\vansh\\appdata\\roaming\\python\\python311\\site-packages (from vaderSentiment) (2.32.3)\n",
      "Requirement already satisfied: charset-normalizer<4,>=2 in c:\\users\\vansh\\appdata\\roaming\\python\\python311\\site-packages (from requests->vaderSentiment) (2.0.12)\n",
      "Requirement already satisfied: idna<4,>=2.5 in c:\\users\\vansh\\appdata\\roaming\\python\\python311\\site-packages (from requests->vaderSentiment) (3.7)\n",
      "Requirement already satisfied: urllib3<3,>=1.21.1 in c:\\users\\vansh\\appdata\\roaming\\python\\python311\\site-packages (from requests->vaderSentiment) (1.26.18)\n",
      "Requirement already satisfied: certifi>=2017.4.17 in c:\\users\\vansh\\appdata\\roaming\\python\\python311\\site-packages (from requests->vaderSentiment) (2024.6.2)\n"
     ]
    }
   ],
   "source": [
    "# Module for \n",
    "!pip install vaderSentiment"
   ]
  },
  {
   "cell_type": "code",
   "execution_count": 2,
   "id": "0a2d13da-1c45-4070-916b-1e3bba5732e8",
   "metadata": {},
   "outputs": [
    {
     "name": "stdout",
     "output_type": "stream",
     "text": [
      "Defaulting to user installation because normal site-packages is not writeable\n"
     ]
    },
    {
     "name": "stderr",
     "output_type": "stream",
     "text": [
      "ERROR: Could not find a version that satisfies the requirement tkinter (from versions: none)\n",
      "ERROR: No matching distribution found for tkinter\n"
     ]
    }
   ],
   "source": [
    "# Python's GUI library\n",
    "!pip install tkinter"
   ]
  },
  {
   "cell_type": "code",
   "execution_count": 3,
   "id": "d0194e9a-61f9-4233-a115-b6b74ccfaec4",
   "metadata": {},
   "outputs": [],
   "source": [
    "# Importing libraries\n",
    "from vaderSentiment.vaderSentiment import SentimentIntensityAnalyzer \n",
    "from tkinter import *"
   ]
  },
  {
   "cell_type": "code",
   "execution_count": 4,
   "id": "17054291-5b5b-4a9c-b97a-f65c96a1a75a",
   "metadata": {},
   "outputs": [],
   "source": [
    "# Function to clear the content of all input and output fields\n",
    "def clearAll() : \n",
    "\n",
    "\t# deleting the content from the rating boxes\n",
    "\tnegativeField.delete(0, END) \n",
    "\tneutralField.delete(0, END) \n",
    "\tpositiveField.delete(0, END) \n",
    "\toverallField.delete(0, END) \n",
    "\n",
    "\t# deleting the content from the input text box\n",
    "\ttextArea.delete(1.0, END)"
   ]
  },
  {
   "cell_type": "code",
   "execution_count": 5,
   "id": "2cedbf03-c148-4d3a-8888-9eeff5373165",
   "metadata": {},
   "outputs": [],
   "source": [
    "# Sentiment Detection Function retrieves the text, analyzes it using VADER, and displays the results\n",
    "def detect_sentiment():\n",
    "    \n",
    "\t# retrives the whole input content from the text box\n",
    "\tsentence = textArea.get(\"1.0\", \"end\")\n",
    "\n",
    "\t# create  SentimentIntensityAnalyzer object\n",
    "\tsid_obj = SentimentIntensityAnalyzer() \n",
    "\n",
    "\t# using the polarity_scores method of SentimentIntensityAnalyzer \n",
    "\t# object gives a sentiment dictionary which contains pos, neg, neu, and compound scores. \n",
    "\tsentiment_dict = sid_obj.polarity_scores(sentence) \n",
    "\n",
    "\tstring = str(sentiment_dict['neg']*100) + \"% Negative\"\n",
    "\tnegativeField.insert(10, string)\n",
    "\t\n",
    "\tstring = str(sentiment_dict['neu']*100) + \"% Neutral\"\n",
    "\tneutralField.insert(10, string)\n",
    "\n",
    "\tstring = str(sentiment_dict['pos']*100) +\"% Positive\"\n",
    "\tpositiveField.insert(10, string)\n",
    "\t\n",
    "\t# analyzing the sentiment as positive, negative and neutral \n",
    "\tif sentiment_dict['compound'] >= 0.05 :\n",
    "\t\tstring = \"Positive\"\n",
    "\n",
    "\telif sentiment_dict['compound'] <= - 0.05 :\n",
    "\t\tstring = \"Negative\"\n",
    "\t\n",
    "\telse :\n",
    "\t\tstring = \"Neutral\"\n",
    "\n",
    "\toverallField.insert(10, string)\t\n",
    "\t"
   ]
  },
  {
   "cell_type": "code",
   "execution_count": 6,
   "id": "bb394b73-c1ed-495f-ba12-630d283a06a0",
   "metadata": {},
   "outputs": [],
   "source": [
    "# Driver Code \n",
    "if __name__ == \"__main__\" :\n",
    "\t\n",
    "    # create and configure GUI components\n",
    "\t\n",
    "    # GUI window \n",
    "\tgui = Tk() \n",
    "\t# background colour of GUI window \n",
    "\tgui.config(background = \"white\") \n",
    "\t# name of tkinter GUI window \n",
    "\tgui.title(\"Sentiment Marker\") \n",
    "\t# configuration of GUI window \n",
    "\tgui.geometry(\"250x400\") \n",
    "\n",
    "\t\n",
    "    # create a label enter task \n",
    "\tenterText = Label(gui, text = \"Enter Your Sentence\", bg = \"white\")\n",
    "\t# text area for writing the content \n",
    "\t# using lunida 13 font \n",
    "\ttextArea = Text(gui, height = 5, width = 25, font = \"lucida 13\")\n",
    "\n",
    "    # create Submit Button and place into the root window\n",
    "    # when user press the button, the command or function affiliated to that button is executed \n",
    "\tcheck = Button(gui, text = \"Check Sentiment\", fg = \"white\", \n",
    "\t\t\t\t\t\tbg = \"Blue\", command = detect_sentiment)\n",
    "\n",
    "    # components doe negative, positive and neutral rating\n",
    "\t# create a negative label \n",
    "\tnegative = Label(gui, text = \"Your sentence is rated as: \", bg = \"white\") \n",
    "\t# create a neutral label \n",
    "\tneutral = Label(gui, text = \"Your sentence is rated as: \", bg = \"white\") \n",
    "\t# create a positive label \n",
    "\tpositive = Label(gui, text = \"Your sentence is rated as: \", bg = \"white\")\n",
    "\t# create a overall label \n",
    "\toverall = Label(gui, text = \"The overall rating of your text is: \", bg = \"white\")\n",
    "\n",
    "\t# create a text entry box for negative field\n",
    "\tnegativeField = Entry(gui)\n",
    "\t# create a text entry box for neutral field\n",
    "\tneutralField = Entry(gui)\n",
    "\t# create a text entry box for positive field\n",
    "\tpositiveField = Entry(gui)\n",
    "\t# create a text entry box overall rating\n",
    "\toverallField = Entry(gui) \n",
    "\t\n",
    "    # create  Clear Button and place into the root window \n",
    "\tclear = Button(gui, text = \"Clear\", fg = \"white\", \n",
    "\t\t\t\t\tbg = \"Blue\", command = clearAll)\n",
    "\t\n",
    "\t\n",
    "    # create Exit Button and place into the root window \n",
    "\tExit = Button(gui, text = \"Exit\", fg = \"white\", \n",
    "\t\t\t\t\t\tbg = \"Blue\", command = exit)\n",
    "\n",
    "\t# grid method is used for placing the widgets at respective positions in table like structure. \n",
    "\tenterText.grid(row = 0, column = 2)\n",
    "\ttextArea.grid(row = 1, column = 2, padx = 10, sticky = W)\n",
    "\tcheck.grid(row = 2, column = 2)\n",
    "\tnegative.grid(row = 3, column = 2)\n",
    "\tneutral.grid(row = 5, column = 2)\n",
    "\tpositive.grid(row = 7, column = 2)\n",
    "\toverall.grid(row = 9, column = 2)\n",
    "\tnegativeField.grid(row = 4, column = 2)\n",
    "\tneutralField.grid(row = 6, column = 2)\t\t\t\n",
    "\tpositiveField.grid(row = 8, column = 2)\n",
    "\toverallField.grid(row = 10, column = 2)\n",
    "\tclear.grid(row = 11, column = 2)\n",
    "\tExit.grid(row = 12, column = 2)"
   ]
  },
  {
   "cell_type": "code",
   "execution_count": null,
   "id": "d056b172-61df-41af-9a66-d5ccea018bb8",
   "metadata": {},
   "outputs": [],
   "source": [
    "# start the GUI \n",
    "gui.mainloop() "
   ]
  },
  {
   "cell_type": "code",
   "execution_count": null,
   "id": "52f6a5fd-db32-4a1d-84a3-5ba57062c2d1",
   "metadata": {},
   "outputs": [],
   "source": []
  }
 ],
 "metadata": {
  "kernelspec": {
   "display_name": "Python 3 (ipykernel)",
   "language": "python",
   "name": "python3"
  },
  "language_info": {
   "codemirror_mode": {
    "name": "ipython",
    "version": 3
   },
   "file_extension": ".py",
   "mimetype": "text/x-python",
   "name": "python",
   "nbconvert_exporter": "python",
   "pygments_lexer": "ipython3",
   "version": "3.11.7"
  }
 },
 "nbformat": 4,
 "nbformat_minor": 5
}
